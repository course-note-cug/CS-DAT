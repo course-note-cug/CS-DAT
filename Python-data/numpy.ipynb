{
 "cells": [
  {
   "cell_type": "markdown",
   "metadata": {},
   "source": [
    "# The `Numpy` class\n",
    "\n",
    "Example. Get the distances between points for all pairs. \n",
    "\n",
    "- `ndarray` as vector calculation\n",
    "- linear algebra, random variable generation"
   ]
  },
  {
   "cell_type": "code",
   "execution_count": 4,
   "metadata": {},
   "outputs": [
    {
     "name": "stdout",
     "output_type": "stream",
     "text": [
      "Defaulting to user installation because normal site-packages is not writeable\n",
      "Requirement already satisfied: numpy in /home/zgw/.local/lib/python3.10/site-packages (1.26.1)\n"
     ]
    }
   ],
   "source": [
    "!pip install numpy\n",
    "import numpy as np"
   ]
  },
  {
   "cell_type": "markdown",
   "metadata": {},
   "source": [
    "## Creating an array\n",
    "\n",
    "\n",
    "`numpy.array(object, dtype, ndmin=0)`\n",
    "- object: an array-like object\n",
    "- dtype: the type we get \n",
    "- ndmin: the minimal dimension of the data"
   ]
  },
  {
   "cell_type": "code",
   "execution_count": 5,
   "metadata": {},
   "outputs": [
    {
     "name": "stdout",
     "output_type": "stream",
     "text": [
      "[0.3 0.5 4.2] <class 'numpy.ndarray'>\n"
     ]
    }
   ],
   "source": [
    "arr1 = np.array([0.3, 0.5, 4.2]) # this is no longer list\n",
    "print(arr1, type(arr1))"
   ]
  },
  {
   "cell_type": "code",
   "execution_count": 6,
   "metadata": {},
   "outputs": [],
   "source": [
    "# Here is a 2D array\n",
    "\n",
    "\n",
    "arr2 = np.array([[3,1,1,],[1,1,1]])"
   ]
  },
  {
   "cell_type": "markdown",
   "metadata": {},
   "source": [
    "Property of an array\n",
    "- ndim : The dimension of the number\n",
    "- shape : a tuple that describe `(n,m)` given a $n \\times m$ matrix\n",
    "- size : return $n\\times m$\n",
    "- dtype : return data type \n",
    "- itemsize: get the item size, in byte(int)"
   ]
  },
  {
   "cell_type": "markdown",
   "metadata": {},
   "source": [
    "## Creating special array\n",
    "\n",
    "- `arr.shape = 4,3` means reconfig its shape to (4,3)\n",
    "- `arrange(start, stop, step)` means that it generates a interval. Like `range`.\n",
    "- `linspace(start, stop, sample_number)` as arithematic\n",
    "- `logspace` as geometric progression\n",
    "- `zeros` for all 0 array \n",
    "- `eye` for $I_n$, identity matrix\n"
   ]
  },
  {
   "cell_type": "code",
   "execution_count": 10,
   "metadata": {},
   "outputs": [
    {
     "data": {
      "text/plain": [
       "array([[[0., 0., 0., 0., 0.],\n",
       "        [0., 0., 0., 0., 0.],\n",
       "        [0., 0., 0., 0., 0.],\n",
       "        [0., 0., 0., 0., 0.]],\n",
       "\n",
       "       [[0., 0., 0., 0., 0.],\n",
       "        [0., 0., 0., 0., 0.],\n",
       "        [0., 0., 0., 0., 0.],\n",
       "        [0., 0., 0., 0., 0.]],\n",
       "\n",
       "       [[0., 0., 0., 0., 0.],\n",
       "        [0., 0., 0., 0., 0.],\n",
       "        [0., 0., 0., 0., 0.],\n",
       "        [0., 0., 0., 0., 0.]]])"
      ]
     },
     "execution_count": 10,
     "metadata": {},
     "output_type": "execute_result"
    }
   ],
   "source": [
    "np.arange(0,1,0.1)\n",
    "np.zeros([3,4,5]) # 3*4*5"
   ]
  },
  {
   "cell_type": "markdown",
   "metadata": {},
   "source": [
    "## Type system of array"
   ]
  },
  {
   "cell_type": "code",
   "execution_count": 11,
   "metadata": {},
   "outputs": [
    {
     "name": "stdout",
     "output_type": "stream",
     "text": [
      "[1 1 4]\n"
     ]
    }
   ],
   "source": [
    "arr = np.array([1,1,4])\n",
    "arr[0] = 1.14\n",
    "\n",
    "print(arr) # Not changing, why? "
   ]
  },
  {
   "cell_type": "code",
   "execution_count": 13,
   "metadata": {},
   "outputs": [
    {
     "name": "stdout",
     "output_type": "stream",
     "text": [
      "[1.14 1.   4.  ]\n"
     ]
    }
   ],
   "source": [
    "arr = np.array([1,1,4], dtype = float)\n",
    "arr[0] = 1.14\n",
    "\n",
    "print(arr) # Not changing, why? "
   ]
  },
  {
   "cell_type": "markdown",
   "metadata": {},
   "source": [
    "## Generate Random Number\n",
    "\n",
    "We have `seed`, `permutation`, `suffle`, `binomial`, `normal`, `beta`, `chisquare`(meaning $\\chi^2$), and `gamma`($\\gamma$), and `uniform`. "
   ]
  },
  {
   "cell_type": "code",
   "execution_count": 14,
   "metadata": {},
   "outputs": [
    {
     "data": {
      "text/plain": [
       "array([[0.06991414, 0.10876226, 0.43486834, 0.60629697],\n",
       "       [0.76864276, 0.70051242, 0.36683188, 0.30411878],\n",
       "       [0.05675549, 0.6227112 , 0.76454249, 0.71963441]])"
      ]
     },
     "execution_count": 14,
     "metadata": {},
     "output_type": "execute_result"
    }
   ],
   "source": [
    "np.random.random(10) # 10 rands with no constraints\n",
    "np.random.rand(3, 4) # Uniformly generated\n",
    "\n",
    "np.random.randn(10,2,4) # Generate a data in normal distribution"
   ]
  },
  {
   "cell_type": "markdown",
   "metadata": {},
   "source": [
    "## Index system"
   ]
  },
  {
   "cell_type": "code",
   "execution_count": 18,
   "metadata": {},
   "outputs": [
    {
     "name": "stdout",
     "output_type": "stream",
     "text": [
      "0.3 3.2\n",
      "[0.78]\n",
      "()\n",
      "(2,)\n"
     ]
    }
   ],
   "source": [
    "arr1 = np.array([0.3, 0.78, 0.21, 5, 3.2])\n",
    "\n",
    "# Index single element\n",
    "print(arr1[0], arr1[-1])\n",
    "\n",
    "\n",
    "# Index multiple (slices) preserves the structure\n",
    "print(arr1[1:2])\n",
    "\n",
    "\n",
    "print(arr1[3].shape)\n",
    "print(arr1[-4:-2].shape)"
   ]
  },
  {
   "cell_type": "code",
   "execution_count": 22,
   "metadata": {},
   "outputs": [
    {
     "name": "stdout",
     "output_type": "stream",
     "text": [
      "[2.3 1.1 4.5]\n",
      "[4.5]\n"
     ]
    },
    {
     "data": {
      "text/plain": [
       "array([ True, False,  True])"
      ]
     },
     "execution_count": 22,
     "metadata": {},
     "output_type": "execute_result"
    }
   ],
   "source": [
    "# Logical index \n",
    "arr2 = np.array([2.3,1.1, 4.5])\n",
    "print(arr2)\n",
    "print(arr2[[False, False, True]])\n",
    "\n",
    "\n",
    "arr2>2 # for i in arr2 if it >2 True else false \n"
   ]
  },
  {
   "cell_type": "code",
   "execution_count": 30,
   "metadata": {},
   "outputs": [
    {
     "name": "stdout",
     "output_type": "stream",
     "text": [
      "[[ 1  2  3  4]\n",
      " [ 5  6  7  8]\n",
      " [ 9 10 11 12]]\n",
      "12\n",
      "[ 9 10 11 12]\n",
      "[1 5 9]\n",
      "[[ 6  7]\n",
      " [10 11]]\n",
      "[[ 9 10 11 12]]\n"
     ]
    }
   ],
   "source": [
    "# Index for the multiple dimension \n",
    "\n",
    "arr3 = np.arange(1,13).reshape([3,4])\n",
    "print(arr3)\n",
    "\n",
    "# Get 12 by indicies\n",
    "print(arr3[2, 3])\n",
    "\n",
    "# Get the 3rd row \n",
    "print(arr3[2, 0:]) # 0: means from 0 to last\n",
    "# Get the first col\n",
    "print(arr3[0:, 0])\n",
    "\n",
    "# A square\n",
    "print(arr3[1:3, 1:3])\n",
    "\n",
    "print(arr3[2:,:]) # two shapes"
   ]
  },
  {
   "cell_type": "code",
   "execution_count": 31,
   "metadata": {},
   "outputs": [
    {
     "name": "stdout",
     "output_type": "stream",
     "text": [
      "[[ 5  6  7  8]\n",
      " [ 9 10 11 12]]\n"
     ]
    }
   ],
   "source": [
    "# Logic index \n",
    "\n",
    "# Get all elems in the first row greater than 4\n",
    "\n",
    "print(arr3[arr3[:, 0]>4])"
   ]
  },
  {
   "cell_type": "markdown",
   "metadata": {},
   "source": [
    "We shall solve the problem."
   ]
  },
  {
   "cell_type": "code",
   "execution_count": 34,
   "metadata": {},
   "outputs": [
    {
     "name": "stdout",
     "output_type": "stream",
     "text": [
      "[[  0.          15.55634919  31.11269837  46.66904756  62.22539674\n",
      "   77.78174593  93.33809512 108.8944443  124.45079349 140.00714267]\n",
      " [ 15.55634919   0.          15.55634919  31.11269837  46.66904756\n",
      "   62.22539674  77.78174593  93.33809512 108.8944443  124.45079349]\n",
      " [ 31.11269837  15.55634919   0.          15.55634919  31.11269837\n",
      "   46.66904756  62.22539674  77.78174593  93.33809512 108.8944443 ]\n",
      " [ 46.66904756  31.11269837  15.55634919   0.          15.55634919\n",
      "   31.11269837  46.66904756  62.22539674  77.78174593  93.33809512]\n",
      " [ 62.22539674  46.66904756  31.11269837  15.55634919   0.\n",
      "   15.55634919  31.11269837  46.66904756  62.22539674  77.78174593]\n",
      " [ 77.78174593  62.22539674  46.66904756  31.11269837  15.55634919\n",
      "    0.          15.55634919  31.11269837  46.66904756  62.22539674]\n",
      " [ 93.33809512  77.78174593  62.22539674  46.66904756  31.11269837\n",
      "   15.55634919   0.          15.55634919  31.11269837  46.66904756]\n",
      " [108.8944443   93.33809512  77.78174593  62.22539674  46.66904756\n",
      "   31.11269837  15.55634919   0.          15.55634919  31.11269837]\n",
      " [124.45079349 108.8944443   93.33809512  77.78174593  62.22539674\n",
      "   46.66904756  31.11269837  15.55634919   0.          15.55634919]\n",
      " [140.00714267 124.45079349 108.8944443   93.33809512  77.78174593\n",
      "   62.22539674  46.66904756  31.11269837  15.55634919   0.        ]]\n"
     ]
    }
   ],
   "source": [
    "n = 10\n",
    "x = np.linspace(1,100, n)\n",
    "y = np.linspace(1,100, n)\n",
    "\n",
    "dist = np.zeros([n,n])\n",
    "\n",
    "for i in range(n):\n",
    "    for j in range(n):\n",
    "        dist[i, j] = np.sqrt((x[i]-x[j])**2 + (y[i]-y[j])**2)\n",
    "\n",
    "print(dist)"
   ]
  },
  {
   "cell_type": "markdown",
   "metadata": {},
   "source": [
    "## Changing shape\n",
    "\n"
   ]
  },
  {
   "cell_type": "code",
   "execution_count": 43,
   "metadata": {},
   "outputs": [
    {
     "name": "stdout",
     "output_type": "stream",
     "text": [
      "[ 1  2  3  4  5  6  7  8  9 10 11 12]\n",
      "[ 1  2  3  4  5  6  7  8  9 10 11 12]\n",
      "[ 1  5  9  2  6 10  3  7 11  4  8 12]\n",
      "[[[ 1  2  3  4]\n",
      "  [ 5  6  7  8]\n",
      "  [ 9 10 11 12]]\n",
      "\n",
      " [[ 1  2  3  4]\n",
      "  [ 5  6  7  8]\n",
      "  [ 9 10 11 12]]]\n"
     ]
    }
   ],
   "source": [
    "arr4 = np.arange(1, 13)\n",
    "print(arr4)\n",
    "\n",
    "\n",
    "arr5 = arr4.reshape([3,4])\n",
    "\n",
    "\n",
    "print(arr5.ravel())\n",
    "print(arr5.flatten('F'))\n",
    "\n",
    "arr6 = np.stack([arr5,arr5])\n",
    "print(arr6)\n"
   ]
  },
  {
   "cell_type": "markdown",
   "metadata": {},
   "source": [
    "# Matrix in `numpy`\n"
   ]
  },
  {
   "cell_type": "code",
   "execution_count": 48,
   "metadata": {},
   "outputs": [
    {
     "name": "stdout",
     "output_type": "stream",
     "text": [
      "[[1 2 3]\n",
      " [4 5 6]\n",
      " [7 8 9]]\n",
      "[[1 2 3 1 2 3]\n",
      " [4 5 6 4 5 6]\n",
      " [7 8 9 7 8 9]\n",
      " [1 2 3 1 2 3]\n",
      " [4 5 6 4 5 6]\n",
      " [7 8 9 7 8 9]]\n"
     ]
    }
   ],
   "source": [
    "mat1 = np.mat(\"1 2  3; 4 5 6; 7 8 9\")\n",
    "mat2 = np.matrix([[1,2,3],[4,5,6],[7,8,9]])\n",
    "print(mat1)\n",
    "\n",
    "\n",
    "\n",
    "# make up a bigger one\n",
    "print(np.bmat(\"mat1 mat2;mat2, mat1\"))\n",
    "\n",
    "# transpose, inverse\n",
    "print(mat1.T, mat1.I)"
   ]
  },
  {
   "cell_type": "markdown",
   "metadata": {},
   "source": [
    "## Universal function\n",
    "\n",
    "This is also called vectorlized operation. It can be exec by every elem in the list."
   ]
  },
  {
   "cell_type": "code",
   "execution_count": 57,
   "metadata": {},
   "outputs": [
    {
     "name": "stdout",
     "output_type": "stream",
     "text": [
      "[0.3  0.78 0.21 5.   3.2 ] [1.3  1.78 1.21 6.   4.2 ] [ 0.6   1.56  0.42 10.    6.4 ] [ 0.09    0.6084  0.0441 25.     10.24  ]\n",
      "[ 4.3   1.78  1.21 10.    4.2 ] [ 1.2   0.78  0.21 25.    3.2 ] [False False False False  True]\n",
      "True\n",
      "False\n"
     ]
    }
   ],
   "source": [
    "print(arr1, arr1+1, arr1*2, arr1**2)\n",
    "\n",
    "arr2=[4,1,1,5,1]\n",
    "print(arr1+arr2, arr1*arr2, arr1>arr2)\n",
    "\n",
    "print(np.any(arr1 == 0.3))\n",
    "print(np.all(arr1 == 0.2))"
   ]
  },
  {
   "cell_type": "markdown",
   "metadata": {},
   "source": [
    "## Boardcast machanism\n",
    "\n",
    "`numpy` will try to copy to the same number of value to the adder with more elems. "
   ]
  },
  {
   "cell_type": "code",
   "execution_count": null,
   "metadata": {},
   "outputs": [],
   "source": [
    "arr3 = np.arange(1,13)\n"
   ]
  },
  {
   "cell_type": "markdown",
   "metadata": {},
   "source": []
  }
 ],
 "metadata": {
  "kernelspec": {
   "display_name": "Python 3",
   "language": "python",
   "name": "python3"
  },
  "language_info": {
   "codemirror_mode": {
    "name": "ipython",
    "version": 3
   },
   "file_extension": ".py",
   "mimetype": "text/x-python",
   "name": "python",
   "nbconvert_exporter": "python",
   "pygments_lexer": "ipython3",
   "version": "3.10.12"
  }
 },
 "nbformat": 4,
 "nbformat_minor": 2
}
